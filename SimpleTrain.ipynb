{
 "cells": [
  {
   "cell_type": "markdown",
   "metadata": {},
   "source": [
    "# Simple Train\n",
    "\n",
    "This Notebook is written to provide a self-contained overview over the data and network loading and training\n",
    "\n",
    "It is organized in three parts\n",
    "\n",
    "1. Creation of a fake dataset with random values\n",
    "2. Loading this dataset using the Tensorflows [Dataset API](https://www.tensorflow.org/api_docs/python/tf/data/Dataset)\n",
    "3. Performing one training step\n",
    "\n",
    "## load packages"
   ]
  },
  {
   "cell_type": "code",
   "execution_count": 44,
   "metadata": {},
   "outputs": [],
   "source": [
    "import numpy as np\n",
    "from S2parser_africa import S2parser\n",
    "import os\n",
    "import gzip\n",
    "import shutil\n",
    "import tensorflow as tf\n",
    "import pickle\n",
    "import h5py\n",
    "\n",
    "parser=S2parser()"
   ]
  },
  {
   "cell_type": "markdown",
   "metadata": {},
   "source": [
    "## 1. Create dataset"
   ]
  },
  {
   "cell_type": "code",
   "execution_count": 45,
   "metadata": {},
   "outputs": [],
   "source": [
    "hdf5_filepath = '/home/roserustowicz/croptype_data_local/data/ghana/data.hdf5'\n",
    "grid_dir = '/home/roserustowicz/croptype_data_local/data/ghana'\n",
    "num_classes = 4\n",
    "\n",
    "use_s2 = True\n",
    "country = 'ghana'\n",
    "dataset = 'full'\n",
    "\n",
    "S2_BAND_MEANS = { 'ghana': np.array([2620.00, 2519.89, 2630.31, 2739.81, 3225.22, 3562.64, 3356.57, 3788.05, 2915.40, 2102.65]),\n",
    "                  'southsudan': np.array([2119.15, 2061.95, 2127.71, 2277.60, 2784.21, 3088.40, 2939.33, 3308.03, 2597.14, 1834.81]),\n",
    "                  'tanzania': np.array([2551.54, 2471.35, 2675.69, 2799.99, 3191.33, 3453.16, 3335.64, 3660.05, 3182.23, 2383.79])}\n",
    "\n",
    "S2_BAND_STDS = { 'ghana': np.array([2171.62, 2085.69, 2174.37, 2084.56, 2058.97, 2117.31, 1988.70, 2099.78, 1209.48, 918.19]),\n",
    "                 'southsudan': np.array([2113.41, 2026.64, 2126.10, 2093.35, 2066.81, 2114.85, 2049.70, 2111.51, 1320.97, 1029.58]),\n",
    "                 'tanzania': np.array([2290.97, 2204.75, 2282.90, 2214.60, 2182.51, 2226.10, 2116.62, 2210.47, 1428.33, 1135.21])}\n",
    "\n",
    "MIN_TIMESTAMPS = 25"
   ]
  },
  {
   "cell_type": "code",
   "execution_count": 54,
   "metadata": {},
   "outputs": [],
   "source": [
    "def write_field_sample(hdf5_filepath, filepath, country): \n",
    "    grid_id = filepath.split('/')[-1].replace(\".tfrecord\", \"\")\n",
    "    with h5py.File(hdf5_filepath, 'r') as data:\n",
    "        s2 = None\n",
    "        s2_doy = None\n",
    "\n",
    "        s2 = data['s2'][grid_id]\n",
    "        s2_doy = data['s2_dates'][grid_id][()]\n",
    "        s2, s2_doy, _ = sample_timeseries(s2, MIN_TIMESTAMPS, dates=s2_doy, sample_w_clouds=False)\n",
    "\n",
    "        year = (np.ones((len(s2_doy), )) * 2017).astype(int)\n",
    "        \n",
    "        grid = moveTimeToStart(s2)\n",
    "        grid = np.transpose(grid, (0, 2, 3, 1))\n",
    "        label = data['labels'][grid_id][()]\n",
    "        label[label > num_classes] = 0        \n",
    "        \n",
    "    parser = S2parser()\n",
    "    parser.write(filepath, s2, s2_doy, year, label)"
   ]
  },
  {
   "cell_type": "code",
   "execution_count": 55,
   "metadata": {},
   "outputs": [],
   "source": [
    "def write_random_sample(filepath,nobs=46, pix10=24, bands10=4, pix20=12, bands20=6, pix60=6, bands60=3):\n",
    "    \"\"\"create a fake sample with random values\"\"\"\n",
    "    x10 = (np.random.random([nobs,pix10,pix10,bands10])*1e4).astype(np.int64)\n",
    "    x20 = (np.random.random([nobs,pix20,pix20,bands20])*1e4).astype(np.int64)\n",
    "    x60 = (np.random.random([nobs,pix60,pix60,bands60])*1e4).astype(np.int64)\n",
    "    doy = (np.random.random([nobs])*365).astype(np.int64)\n",
    "    year = np.round(np.random.random([nobs])+2016.5).astype(np.int64)\n",
    "    label = (np.random.random([nobs,pix10,pix10])*17).astype(np.int64)\n",
    "\n",
    "    # create instance of parser\n",
    "    parser = S2parser()\n",
    "\n",
    "    # write .tfrecord\n",
    "    parser.write(filepath, x10, x20, x60, doy, year, label)\n",
    "\n",
    "def ziptfrecord(infile,outfile):\n",
    "    # gzip .tfrecord to .tfrecord.gz\n",
    "    with open(infile, 'rb') as f_in:\n",
    "        with gzip.open(outfile, 'wb') as f_out:\n",
    "            shutil.copyfileobj(f_in, f_out)"
   ]
  },
  {
   "cell_type": "code",
   "execution_count": 56,
   "metadata": {},
   "outputs": [],
   "source": [
    "def normalization(grid, country):\n",
    "    \"\"\" Normalization based on values defined in constants.py\n",
    "    Args: \n",
    "      grid - (tensor) grid to be normalized\n",
    "      satellite - (str) describes source that grid is from (\"s1\" or \"s2\")\n",
    "\n",
    "    Returns:\n",
    "      grid - (tensor) a normalized version of the input grid\n",
    "    \"\"\"\n",
    "    num_bands = grid.shape[0]\n",
    "    s2_band_means = S2_BAND_MEANS[country]\n",
    "    s2_band_stds = S2_BAND_STDS[country]\n",
    "    grid = (grid-s2_band_means[:num_bands].reshape(num_bands, 1, 1, 1))/s2_band_stds[:num_bands].reshape(num_bands, 1, 1, 1)\n",
    "    return grid"
   ]
  },
  {
   "cell_type": "code",
   "execution_count": 57,
   "metadata": {},
   "outputs": [],
   "source": [
    "def moveTimeToStart(arr):\n",
    "    return np.transpose(arr, [3, 0, 1, 2])"
   ]
  },
  {
   "cell_type": "code",
   "execution_count": 58,
   "metadata": {},
   "outputs": [],
   "source": [
    "def sample_timeseries(img_stack, num_samples, dates=None, timestamps_first=False, sample_w_clouds=True):\n",
    "    timestamps = img_stack.shape[3]\n",
    "    scores = np.ones((timestamps,))\n",
    "\n",
    "    # Compute probabilities of scores with softmax\n",
    "    probabilities = softmax(scores)\n",
    "    samples = np.random.choice(timestamps, size=num_samples, replace=False, p=probabilities)\n",
    "\n",
    "    # Sort samples to maintain sequential ordering\n",
    "    samples.sort()\n",
    "\n",
    "    # Use sampled indices to sample image and cloud stacks\n",
    "    sampled_img_stack = img_stack[:, :, :, samples]\n",
    "\n",
    "    # Samples dates\n",
    "    sampled_dates = None\n",
    "    if dates is not None:\n",
    "        sampled_dates = dates[samples]\n",
    "\n",
    "    return sampled_img_stack, sampled_dates, None"
   ]
  },
  {
   "cell_type": "code",
   "execution_count": 59,
   "metadata": {},
   "outputs": [],
   "source": [
    "def softmax(x):\n",
    "    \"\"\"\n",
    "    Computes softmax values for a vector x.\n",
    "\n",
    "    Args: \n",
    "      x - (numpy array) a vector of real values\n",
    "\n",
    "    Returns: a vector of probabilities, of the same dimensions as x\n",
    "    \"\"\"\n",
    "    e_x = np.exp(x - np.max(x))\n",
    "    return e_x / e_x.sum()"
   ]
  },
  {
   "cell_type": "code",
   "execution_count": null,
   "metadata": {},
   "outputs": [
    {
     "name": "stdout",
     "output_type": "stream",
     "text": [
      "writing /home/roserustowicz/MTLCC-tf-fork/tmp_africa/018556.tfrecord\n",
      "compressing /home/roserustowicz/MTLCC-tf-fork/tmp_africa/018556.tfrecord -> /home/roserustowicz/MTLCC-tf-fork/tmp_africa/018556.tfrecord.gz\n",
      "writing /home/roserustowicz/MTLCC-tf-fork/tmp_africa/039008.tfrecord\n",
      "compressing /home/roserustowicz/MTLCC-tf-fork/tmp_africa/039008.tfrecord -> /home/roserustowicz/MTLCC-tf-fork/tmp_africa/039008.tfrecord.gz\n",
      "writing /home/roserustowicz/MTLCC-tf-fork/tmp_africa/034236.tfrecord\n",
      "compressing /home/roserustowicz/MTLCC-tf-fork/tmp_africa/034236.tfrecord -> /home/roserustowicz/MTLCC-tf-fork/tmp_africa/034236.tfrecord.gz\n",
      "writing /home/roserustowicz/MTLCC-tf-fork/tmp_africa/026306.tfrecord\n",
      "compressing /home/roserustowicz/MTLCC-tf-fork/tmp_africa/026306.tfrecord -> /home/roserustowicz/MTLCC-tf-fork/tmp_africa/026306.tfrecord.gz\n",
      "writing /home/roserustowicz/MTLCC-tf-fork/tmp_africa/026916.tfrecord\n",
      "compressing /home/roserustowicz/MTLCC-tf-fork/tmp_africa/026916.tfrecord -> /home/roserustowicz/MTLCC-tf-fork/tmp_africa/026916.tfrecord.gz\n",
      "writing /home/roserustowicz/MTLCC-tf-fork/tmp_africa/023035.tfrecord\n",
      "compressing /home/roserustowicz/MTLCC-tf-fork/tmp_africa/023035.tfrecord -> /home/roserustowicz/MTLCC-tf-fork/tmp_africa/023035.tfrecord.gz\n",
      "writing /home/roserustowicz/MTLCC-tf-fork/tmp_africa/013888.tfrecord\n",
      "compressing /home/roserustowicz/MTLCC-tf-fork/tmp_africa/013888.tfrecord -> /home/roserustowicz/MTLCC-tf-fork/tmp_africa/013888.tfrecord.gz\n",
      "writing /home/roserustowicz/MTLCC-tf-fork/tmp_africa/033594.tfrecord\n",
      "compressing /home/roserustowicz/MTLCC-tf-fork/tmp_africa/033594.tfrecord -> /home/roserustowicz/MTLCC-tf-fork/tmp_africa/033594.tfrecord.gz\n",
      "writing /home/roserustowicz/MTLCC-tf-fork/tmp_africa/002289.tfrecord\n",
      "compressing /home/roserustowicz/MTLCC-tf-fork/tmp_africa/002289.tfrecord -> /home/roserustowicz/MTLCC-tf-fork/tmp_africa/002289.tfrecord.gz\n",
      "writing /home/roserustowicz/MTLCC-tf-fork/tmp_africa/001554.tfrecord\n",
      "compressing /home/roserustowicz/MTLCC-tf-fork/tmp_africa/001554.tfrecord -> /home/roserustowicz/MTLCC-tf-fork/tmp_africa/001554.tfrecord.gz\n",
      "writing /home/roserustowicz/MTLCC-tf-fork/tmp_africa/026759.tfrecord\n",
      "compressing /home/roserustowicz/MTLCC-tf-fork/tmp_africa/026759.tfrecord -> /home/roserustowicz/MTLCC-tf-fork/tmp_africa/026759.tfrecord.gz\n",
      "writing /home/roserustowicz/MTLCC-tf-fork/tmp_africa/044017.tfrecord\n",
      "compressing /home/roserustowicz/MTLCC-tf-fork/tmp_africa/044017.tfrecord -> /home/roserustowicz/MTLCC-tf-fork/tmp_africa/044017.tfrecord.gz\n",
      "writing /home/roserustowicz/MTLCC-tf-fork/tmp_africa/004423.tfrecord\n",
      "compressing /home/roserustowicz/MTLCC-tf-fork/tmp_africa/004423.tfrecord -> /home/roserustowicz/MTLCC-tf-fork/tmp_africa/004423.tfrecord.gz\n",
      "writing /home/roserustowicz/MTLCC-tf-fork/tmp_africa/034246.tfrecord\n",
      "compressing /home/roserustowicz/MTLCC-tf-fork/tmp_africa/034246.tfrecord -> /home/roserustowicz/MTLCC-tf-fork/tmp_africa/034246.tfrecord.gz\n",
      "writing /home/roserustowicz/MTLCC-tf-fork/tmp_africa/018123.tfrecord\n",
      "compressing /home/roserustowicz/MTLCC-tf-fork/tmp_africa/018123.tfrecord -> /home/roserustowicz/MTLCC-tf-fork/tmp_africa/018123.tfrecord.gz\n",
      "writing /home/roserustowicz/MTLCC-tf-fork/tmp_africa/044024.tfrecord\n",
      "compressing /home/roserustowicz/MTLCC-tf-fork/tmp_africa/044024.tfrecord -> /home/roserustowicz/MTLCC-tf-fork/tmp_africa/044024.tfrecord.gz\n",
      "writing /home/roserustowicz/MTLCC-tf-fork/tmp_africa/023494.tfrecord\n",
      "compressing /home/roserustowicz/MTLCC-tf-fork/tmp_africa/023494.tfrecord -> /home/roserustowicz/MTLCC-tf-fork/tmp_africa/023494.tfrecord.gz\n",
      "writing /home/roserustowicz/MTLCC-tf-fork/tmp_africa/008483.tfrecord\n",
      "compressing /home/roserustowicz/MTLCC-tf-fork/tmp_africa/008483.tfrecord -> /home/roserustowicz/MTLCC-tf-fork/tmp_africa/008483.tfrecord.gz\n",
      "writing /home/roserustowicz/MTLCC-tf-fork/tmp_africa/031840.tfrecord\n",
      "compressing /home/roserustowicz/MTLCC-tf-fork/tmp_africa/031840.tfrecord -> /home/roserustowicz/MTLCC-tf-fork/tmp_africa/031840.tfrecord.gz\n",
      "writing /home/roserustowicz/MTLCC-tf-fork/tmp_africa/036606.tfrecord\n",
      "compressing /home/roserustowicz/MTLCC-tf-fork/tmp_africa/036606.tfrecord -> /home/roserustowicz/MTLCC-tf-fork/tmp_africa/036606.tfrecord.gz\n",
      "writing /home/roserustowicz/MTLCC-tf-fork/tmp_africa/024787.tfrecord\n",
      "compressing /home/roserustowicz/MTLCC-tf-fork/tmp_africa/024787.tfrecord -> /home/roserustowicz/MTLCC-tf-fork/tmp_africa/024787.tfrecord.gz\n",
      "writing /home/roserustowicz/MTLCC-tf-fork/tmp_africa/025888.tfrecord\n",
      "compressing /home/roserustowicz/MTLCC-tf-fork/tmp_africa/025888.tfrecord -> /home/roserustowicz/MTLCC-tf-fork/tmp_africa/025888.tfrecord.gz\n",
      "writing /home/roserustowicz/MTLCC-tf-fork/tmp_africa/037452.tfrecord\n",
      "compressing /home/roserustowicz/MTLCC-tf-fork/tmp_africa/037452.tfrecord -> /home/roserustowicz/MTLCC-tf-fork/tmp_africa/037452.tfrecord.gz\n",
      "writing /home/roserustowicz/MTLCC-tf-fork/tmp_africa/009911.tfrecord\n",
      "compressing /home/roserustowicz/MTLCC-tf-fork/tmp_africa/009911.tfrecord -> /home/roserustowicz/MTLCC-tf-fork/tmp_africa/009911.tfrecord.gz\n",
      "writing /home/roserustowicz/MTLCC-tf-fork/tmp_africa/032524.tfrecord\n",
      "compressing /home/roserustowicz/MTLCC-tf-fork/tmp_africa/032524.tfrecord -> /home/roserustowicz/MTLCC-tf-fork/tmp_africa/032524.tfrecord.gz\n",
      "writing /home/roserustowicz/MTLCC-tf-fork/tmp_africa/013432.tfrecord\n",
      "compressing /home/roserustowicz/MTLCC-tf-fork/tmp_africa/013432.tfrecord -> /home/roserustowicz/MTLCC-tf-fork/tmp_africa/013432.tfrecord.gz\n",
      "writing /home/roserustowicz/MTLCC-tf-fork/tmp_africa/030810.tfrecord\n",
      "compressing /home/roserustowicz/MTLCC-tf-fork/tmp_africa/030810.tfrecord -> /home/roserustowicz/MTLCC-tf-fork/tmp_africa/030810.tfrecord.gz\n",
      "writing /home/roserustowicz/MTLCC-tf-fork/tmp_africa/027421.tfrecord\n",
      "compressing /home/roserustowicz/MTLCC-tf-fork/tmp_africa/027421.tfrecord -> /home/roserustowicz/MTLCC-tf-fork/tmp_africa/027421.tfrecord.gz\n",
      "writing /home/roserustowicz/MTLCC-tf-fork/tmp_africa/001550.tfrecord\n",
      "compressing /home/roserustowicz/MTLCC-tf-fork/tmp_africa/001550.tfrecord -> /home/roserustowicz/MTLCC-tf-fork/tmp_africa/001550.tfrecord.gz\n",
      "writing /home/roserustowicz/MTLCC-tf-fork/tmp_africa/025909.tfrecord\n",
      "compressing /home/roserustowicz/MTLCC-tf-fork/tmp_africa/025909.tfrecord -> /home/roserustowicz/MTLCC-tf-fork/tmp_africa/025909.tfrecord.gz\n",
      "writing /home/roserustowicz/MTLCC-tf-fork/tmp_africa/005273.tfrecord\n",
      "compressing /home/roserustowicz/MTLCC-tf-fork/tmp_africa/005273.tfrecord -> /home/roserustowicz/MTLCC-tf-fork/tmp_africa/005273.tfrecord.gz\n",
      "writing /home/roserustowicz/MTLCC-tf-fork/tmp_africa/017361.tfrecord\n",
      "compressing /home/roserustowicz/MTLCC-tf-fork/tmp_africa/017361.tfrecord -> /home/roserustowicz/MTLCC-tf-fork/tmp_africa/017361.tfrecord.gz\n",
      "writing /home/roserustowicz/MTLCC-tf-fork/tmp_africa/014020.tfrecord\n",
      "compressing /home/roserustowicz/MTLCC-tf-fork/tmp_africa/014020.tfrecord -> /home/roserustowicz/MTLCC-tf-fork/tmp_africa/014020.tfrecord.gz\n",
      "writing /home/roserustowicz/MTLCC-tf-fork/tmp_africa/026790.tfrecord\n",
      "compressing /home/roserustowicz/MTLCC-tf-fork/tmp_africa/026790.tfrecord -> /home/roserustowicz/MTLCC-tf-fork/tmp_africa/026790.tfrecord.gz\n",
      "writing /home/roserustowicz/MTLCC-tf-fork/tmp_africa/039042.tfrecord\n",
      "compressing /home/roserustowicz/MTLCC-tf-fork/tmp_africa/039042.tfrecord -> /home/roserustowicz/MTLCC-tf-fork/tmp_africa/039042.tfrecord.gz\n",
      "writing /home/roserustowicz/MTLCC-tf-fork/tmp_africa/017613.tfrecord\n",
      "compressing /home/roserustowicz/MTLCC-tf-fork/tmp_africa/017613.tfrecord -> /home/roserustowicz/MTLCC-tf-fork/tmp_africa/017613.tfrecord.gz\n",
      "writing /home/roserustowicz/MTLCC-tf-fork/tmp_africa/031470.tfrecord\n",
      "compressing /home/roserustowicz/MTLCC-tf-fork/tmp_africa/031470.tfrecord -> /home/roserustowicz/MTLCC-tf-fork/tmp_africa/031470.tfrecord.gz\n",
      "writing /home/roserustowicz/MTLCC-tf-fork/tmp_africa/001373.tfrecord\n",
      "compressing /home/roserustowicz/MTLCC-tf-fork/tmp_africa/001373.tfrecord -> /home/roserustowicz/MTLCC-tf-fork/tmp_africa/001373.tfrecord.gz\n",
      "writing /home/roserustowicz/MTLCC-tf-fork/tmp_africa/033814.tfrecord\n",
      "compressing /home/roserustowicz/MTLCC-tf-fork/tmp_africa/033814.tfrecord -> /home/roserustowicz/MTLCC-tf-fork/tmp_africa/033814.tfrecord.gz\n",
      "writing /home/roserustowicz/MTLCC-tf-fork/tmp_africa/037146.tfrecord\n"
     ]
    },
    {
     "name": "stdout",
     "output_type": "stream",
     "text": [
      "compressing /home/roserustowicz/MTLCC-tf-fork/tmp_africa/037146.tfrecord -> /home/roserustowicz/MTLCC-tf-fork/tmp_africa/037146.tfrecord.gz\n",
      "writing /home/roserustowicz/MTLCC-tf-fork/tmp_africa/034830.tfrecord\n",
      "compressing /home/roserustowicz/MTLCC-tf-fork/tmp_africa/034830.tfrecord -> /home/roserustowicz/MTLCC-tf-fork/tmp_africa/034830.tfrecord.gz\n",
      "writing /home/roserustowicz/MTLCC-tf-fork/tmp_africa/026919.tfrecord\n",
      "compressing /home/roserustowicz/MTLCC-tf-fork/tmp_africa/026919.tfrecord -> /home/roserustowicz/MTLCC-tf-fork/tmp_africa/026919.tfrecord.gz\n",
      "writing /home/roserustowicz/MTLCC-tf-fork/tmp_africa/017956.tfrecord\n",
      "compressing /home/roserustowicz/MTLCC-tf-fork/tmp_africa/017956.tfrecord -> /home/roserustowicz/MTLCC-tf-fork/tmp_africa/017956.tfrecord.gz\n",
      "writing /home/roserustowicz/MTLCC-tf-fork/tmp_africa/031771.tfrecord\n",
      "compressing /home/roserustowicz/MTLCC-tf-fork/tmp_africa/031771.tfrecord -> /home/roserustowicz/MTLCC-tf-fork/tmp_africa/031771.tfrecord.gz\n",
      "writing /home/roserustowicz/MTLCC-tf-fork/tmp_africa/018087.tfrecord\n",
      "compressing /home/roserustowicz/MTLCC-tf-fork/tmp_africa/018087.tfrecord -> /home/roserustowicz/MTLCC-tf-fork/tmp_africa/018087.tfrecord.gz\n",
      "writing /home/roserustowicz/MTLCC-tf-fork/tmp_africa/001552.tfrecord\n",
      "compressing /home/roserustowicz/MTLCC-tf-fork/tmp_africa/001552.tfrecord -> /home/roserustowicz/MTLCC-tf-fork/tmp_africa/001552.tfrecord.gz\n",
      "writing /home/roserustowicz/MTLCC-tf-fork/tmp_africa/033719.tfrecord\n",
      "compressing /home/roserustowicz/MTLCC-tf-fork/tmp_africa/033719.tfrecord -> /home/roserustowicz/MTLCC-tf-fork/tmp_africa/033719.tfrecord.gz\n",
      "writing /home/roserustowicz/MTLCC-tf-fork/tmp_africa/035932.tfrecord\n",
      "compressing /home/roserustowicz/MTLCC-tf-fork/tmp_africa/035932.tfrecord -> /home/roserustowicz/MTLCC-tf-fork/tmp_africa/035932.tfrecord.gz\n",
      "writing /home/roserustowicz/MTLCC-tf-fork/tmp_africa/001386.tfrecord\n",
      "compressing /home/roserustowicz/MTLCC-tf-fork/tmp_africa/001386.tfrecord -> /home/roserustowicz/MTLCC-tf-fork/tmp_africa/001386.tfrecord.gz\n",
      "writing /home/roserustowicz/MTLCC-tf-fork/tmp_africa/009412.tfrecord\n",
      "compressing /home/roserustowicz/MTLCC-tf-fork/tmp_africa/009412.tfrecord -> /home/roserustowicz/MTLCC-tf-fork/tmp_africa/009412.tfrecord.gz\n",
      "writing /home/roserustowicz/MTLCC-tf-fork/tmp_africa/009410.tfrecord\n",
      "compressing /home/roserustowicz/MTLCC-tf-fork/tmp_africa/009410.tfrecord -> /home/roserustowicz/MTLCC-tf-fork/tmp_africa/009410.tfrecord.gz\n",
      "writing /home/roserustowicz/MTLCC-tf-fork/tmp_africa/024756.tfrecord\n",
      "compressing /home/roserustowicz/MTLCC-tf-fork/tmp_africa/024756.tfrecord -> /home/roserustowicz/MTLCC-tf-fork/tmp_africa/024756.tfrecord.gz\n",
      "writing /home/roserustowicz/MTLCC-tf-fork/tmp_africa/036655.tfrecord\n",
      "compressing /home/roserustowicz/MTLCC-tf-fork/tmp_africa/036655.tfrecord -> /home/roserustowicz/MTLCC-tf-fork/tmp_africa/036655.tfrecord.gz\n",
      "writing /home/roserustowicz/MTLCC-tf-fork/tmp_africa/017797.tfrecord\n",
      "compressing /home/roserustowicz/MTLCC-tf-fork/tmp_africa/017797.tfrecord -> /home/roserustowicz/MTLCC-tf-fork/tmp_africa/017797.tfrecord.gz\n",
      "writing /home/roserustowicz/MTLCC-tf-fork/tmp_africa/023515.tfrecord\n",
      "compressing /home/roserustowicz/MTLCC-tf-fork/tmp_africa/023515.tfrecord -> /home/roserustowicz/MTLCC-tf-fork/tmp_africa/023515.tfrecord.gz\n",
      "writing /home/roserustowicz/MTLCC-tf-fork/tmp_africa/023460.tfrecord\n",
      "compressing /home/roserustowicz/MTLCC-tf-fork/tmp_africa/023460.tfrecord -> /home/roserustowicz/MTLCC-tf-fork/tmp_africa/023460.tfrecord.gz\n",
      "writing /home/roserustowicz/MTLCC-tf-fork/tmp_africa/038774.tfrecord\n",
      "compressing /home/roserustowicz/MTLCC-tf-fork/tmp_africa/038774.tfrecord -> /home/roserustowicz/MTLCC-tf-fork/tmp_africa/038774.tfrecord.gz\n",
      "writing /home/roserustowicz/MTLCC-tf-fork/tmp_africa/037099.tfrecord\n",
      "compressing /home/roserustowicz/MTLCC-tf-fork/tmp_africa/037099.tfrecord -> /home/roserustowicz/MTLCC-tf-fork/tmp_africa/037099.tfrecord.gz\n",
      "writing /home/roserustowicz/MTLCC-tf-fork/tmp_africa/025065.tfrecord\n",
      "compressing /home/roserustowicz/MTLCC-tf-fork/tmp_africa/025065.tfrecord -> /home/roserustowicz/MTLCC-tf-fork/tmp_africa/025065.tfrecord.gz\n",
      "writing /home/roserustowicz/MTLCC-tf-fork/tmp_africa/033898.tfrecord\n",
      "compressing /home/roserustowicz/MTLCC-tf-fork/tmp_africa/033898.tfrecord -> /home/roserustowicz/MTLCC-tf-fork/tmp_africa/033898.tfrecord.gz\n",
      "writing /home/roserustowicz/MTLCC-tf-fork/tmp_africa/025475.tfrecord\n",
      "compressing /home/roserustowicz/MTLCC-tf-fork/tmp_africa/025475.tfrecord -> /home/roserustowicz/MTLCC-tf-fork/tmp_africa/025475.tfrecord.gz\n",
      "writing /home/roserustowicz/MTLCC-tf-fork/tmp_africa/029091.tfrecord\n",
      "compressing /home/roserustowicz/MTLCC-tf-fork/tmp_africa/029091.tfrecord -> /home/roserustowicz/MTLCC-tf-fork/tmp_africa/029091.tfrecord.gz\n",
      "writing /home/roserustowicz/MTLCC-tf-fork/tmp_africa/014361.tfrecord\n",
      "compressing /home/roserustowicz/MTLCC-tf-fork/tmp_africa/014361.tfrecord -> /home/roserustowicz/MTLCC-tf-fork/tmp_africa/014361.tfrecord.gz\n",
      "writing /home/roserustowicz/MTLCC-tf-fork/tmp_africa/026067.tfrecord\n",
      "compressing /home/roserustowicz/MTLCC-tf-fork/tmp_africa/026067.tfrecord -> /home/roserustowicz/MTLCC-tf-fork/tmp_africa/026067.tfrecord.gz\n",
      "writing /home/roserustowicz/MTLCC-tf-fork/tmp_africa/001397.tfrecord\n",
      "compressing /home/roserustowicz/MTLCC-tf-fork/tmp_africa/001397.tfrecord -> /home/roserustowicz/MTLCC-tf-fork/tmp_africa/001397.tfrecord.gz\n",
      "writing /home/roserustowicz/MTLCC-tf-fork/tmp_africa/025170.tfrecord\n"
     ]
    }
   ],
   "source": [
    "# define directory to store the dataset\n",
    "directory=\"/home/roserustowicz/MTLCC-tf-fork/tmp_africa\"\n",
    "if not os.path.exists(directory):\n",
    "    os.makedirs(directory)\n",
    "    \n",
    "for split in ['train', 'val', 'test']:\n",
    "    grid_path = os.path.join(grid_dir, f\"{country}_{dataset}_{split}\")\n",
    "    with open(grid_path, \"rb\") as f:\n",
    "        grid_list = list(pickle.load(f))\n",
    "            \n",
    "    filepaths=[\"{}/{}.tfrecord\".format(directory,i) for i in grid_list]\n",
    "    zippedfilepaths=[\"{}/{}.tfrecord.gz\".format(directory,i) for i in grid_list]\n",
    "\n",
    "# create the dataset\n",
    "for filepath, zippedfilepath in zip(filepaths, zippedfilepaths):\n",
    "    write_field_sample(hdf5_filepath, filepath, country)\n",
    "    print(\"writing \"+filepath)\n",
    "    ziptfrecord(filepath,zippedfilepath)\n",
    "    print(\"compressing \"+filepath+\" -> \"+zippedfilepath)\n",
    "    "
   ]
  },
  {
   "cell_type": "markdown",
   "metadata": {},
   "source": [
    "## 2. Create a Tensorflow Dataset Iterator\n",
    "\n",
    "See https://www.tensorflow.org/programmers_guide/datasets for more details\n",
    "\n",
    "- Essentially includes the data in the processing graph as input nodes.\n",
    "- These commands set up the processing graph of the input pipeline.\n",
    "- No data is processed,yet.\n",
    "- Some errors may remain undetected until data is inferred with sess.run(.)"
   ]
  },
  {
   "cell_type": "code",
   "execution_count": 22,
   "metadata": {},
   "outputs": [
    {
     "name": "stdout",
     "output_type": "stream",
     "text": [
      "Reset all previously loaded graphs (in case this or the next cells have been executed twice)\n",
      "creating dataset object\n",
      "applying the mapping function on all samples (will read tfrecord file and normalize the values)\n",
      "repeat forever until externally stopped\n",
      "combine samples to batches\n",
      "make iterator\n"
     ]
    }
   ],
   "source": [
    "import pdb\n",
    "\n",
    "batchsize=2\n",
    "\n",
    "print(\"Reset all previously loaded graphs (in case this or the next cells have been executed twice)\")\n",
    "tf.reset_default_graph()\n",
    "\n",
    "print(\"creating dataset object\")\n",
    "dataset = tf.data.TFRecordDataset(zippedfilepaths, compression_type=\"GZIP\")\n",
    "#dataset = tf.data.TFRecordDataset(filepaths)\n",
    "\n",
    "def normalize(serialized_feature):\n",
    "    \"\"\" normalize stored integer values to floats approx. [0,1] \"\"\"\n",
    "    x10, doy, year, labels = serialized_feature\n",
    "    #x10, x20, x60, doy, year, labels = serialized_feature\n",
    "    x10 = tf.scalar_mul(1e-4, tf.cast(x10, tf.float32))\n",
    "    #x20 = tf.scalar_mul(1e-4, tf.cast(x20, tf.float32))\n",
    "    #x60 = tf.scalar_mul(1e-4, tf.cast(x60, tf.float32))\n",
    "    doy = tf.cast(doy, tf.float32) / 365\n",
    "    year = tf.cast(year, tf.float32) - 2016\n",
    "\n",
    "    #return x10, x20, x60, doy, year, labels\n",
    "    return x10, doy, year, labels\n",
    "\n",
    "def mapping_function(serialized_feature):\n",
    "    # read data from .tfrecords\n",
    "    serialized_feature = parser.parse_example(serialized_feature)\n",
    "    return normalize(serialized_feature)\n",
    "\n",
    "print(\"applying the mapping function on all samples (will read tfrecord file and normalize the values)\")\n",
    "dataset = dataset.map(mapping_function)\n",
    "\n",
    "print(\"repeat forever until externally stopped\")\n",
    "dataset = dataset.repeat()\n",
    "\n",
    "print(\"combine samples to batches\")\n",
    "dataset = dataset.apply(tf.contrib.data.batch_and_drop_remainder(int(batchsize)))\n",
    "\n",
    "print(\"make iterator\")\n",
    "iterator = dataset.make_initializable_iterator()"
   ]
  },
  {
   "cell_type": "markdown",
   "metadata": {},
   "source": [
    "## 3a. Retrieve one sample"
   ]
  },
  {
   "cell_type": "code",
   "execution_count": 23,
   "metadata": {},
   "outputs": [
    {
     "name": "stdout",
     "output_type": "stream",
     "text": [
      "1.10.0\n",
      "retrieving one sample as numpy array (just for fun)\n",
      "x10.shape: (2, 10, 64, 64, 25)\n"
     ]
    },
    {
     "data": {
      "image/png": "[encoded data removed]",
      "text/plain": [
       "<Figure size 432x288 with 1 Axes>"
      ]
     },
     "metadata": {
      "needs_background": "light"
     },
     "output_type": "display_data"
    }
   ],
   "source": [
    "import matplotlib.pyplot as plt\n",
    "%matplotlib inline\n",
    "\n",
    "print(tf.__version__)\n",
    "    \n",
    "with tf.Session() as sess:\n",
    "    sess.run(iterator.initializer)\n",
    "    print(\"retrieving one sample as numpy array (just for fun)\")\n",
    "    x10, doy, year, labels = sess.run(iterator.get_next())\n",
    "    print(\"x10.shape: \" + str(x10.shape))\n",
    "    plt.imshow(x10[0,0,:,:,0])\n",
    "    plt.title(\"x10\")"
   ]
  },
  {
   "cell_type": "markdown",
   "metadata": {},
   "source": [
    "# 3b Perform one training step"
   ]
  },
  {
   "cell_type": "code",
   "execution_count": 12,
   "metadata": {},
   "outputs": [
    {
     "name": "stdout",
     "output_type": "stream",
     "text": [
      "loading network graph definition\n",
      "initializing variables, tables and the data iterator\n",
      "getting one string handle from the iterator that can be fed to the network\n",
      "making some processing nodes accessible to python\n",
      "performing one training step\n"
     ]
    },
    {
     "ename": "InvalidArgumentError",
     "evalue": "Number of components does not match: expected 6 types but got 4.\n\t [[Node: input/IteratorFromStringHandle = IteratorFromStringHandle[output_shapes=[<unknown>, <unknown>, <unknown>, <unknown>, <unknown>, <unknown>], output_types=[DT_FLOAT, DT_FLOAT, DT_FLOAT, DT_FLOAT, DT_FLOAT, DT_INT64], _device=\"/job:localhost/replica:0/task:0/device:CPU:0\"](_arg_data_iterator_handle_0_0)]]\n\nCaused by op 'input/IteratorFromStringHandle', defined at:\n  File \"/home/roserustowicz/anaconda3/envs/croptype/lib/python3.6/runpy.py\", line 193, in _run_module_as_main\n    \"__main__\", mod_spec)\n  File \"/home/roserustowicz/anaconda3/envs/croptype/lib/python3.6/runpy.py\", line 85, in _run_code\n    exec(code, run_globals)\n  File \"/home/roserustowicz/anaconda3/envs/croptype/lib/python3.6/site-packages/ipykernel_launcher.py\", line 16, in <module>\n    app.launch_new_instance()\n  File \"/home/roserustowicz/anaconda3/envs/croptype/lib/python3.6/site-packages/traitlets/config/application.py\", line 658, in launch_instance\n    app.start()\n  File \"/home/roserustowicz/anaconda3/envs/croptype/lib/python3.6/site-packages/ipykernel/kernelapp.py\", line 505, in start\n    self.io_loop.start()\n  File \"/home/roserustowicz/anaconda3/envs/croptype/lib/python3.6/site-packages/tornado/platform/asyncio.py\", line 132, in start\n    self.asyncio_loop.run_forever()\n  File \"/home/roserustowicz/anaconda3/envs/croptype/lib/python3.6/asyncio/base_events.py\", line 422, in run_forever\n    self._run_once()\n  File \"/home/roserustowicz/anaconda3/envs/croptype/lib/python3.6/asyncio/base_events.py\", line 1434, in _run_once\n    handle._run()\n  File \"/home/roserustowicz/anaconda3/envs/croptype/lib/python3.6/asyncio/events.py\", line 145, in _run\n    self._callback(*self._args)\n  File \"/home/roserustowicz/anaconda3/envs/croptype/lib/python3.6/site-packages/tornado/ioloop.py\", line 758, in _run_callback\n    ret = callback()\n  File \"/home/roserustowicz/anaconda3/envs/croptype/lib/python3.6/site-packages/tornado/stack_context.py\", line 300, in null_wrapper\n    return fn(*args, **kwargs)\n  File \"/home/roserustowicz/anaconda3/envs/croptype/lib/python3.6/site-packages/tornado/gen.py\", line 1233, in inner\n    self.run()\n  File \"/home/roserustowicz/anaconda3/envs/croptype/lib/python3.6/site-packages/tornado/gen.py\", line 1147, in run\n    yielded = self.gen.send(value)\n  File \"/home/roserustowicz/anaconda3/envs/croptype/lib/python3.6/site-packages/ipykernel/kernelbase.py\", line 357, in process_one\n    yield gen.maybe_future(dispatch(*args))\n  File \"/home/roserustowicz/anaconda3/envs/croptype/lib/python3.6/site-packages/tornado/gen.py\", line 326, in wrapper\n    yielded = next(result)\n  File \"/home/roserustowicz/anaconda3/envs/croptype/lib/python3.6/site-packages/ipykernel/kernelbase.py\", line 267, in dispatch_shell\n    yield gen.maybe_future(handler(stream, idents, msg))\n  File \"/home/roserustowicz/anaconda3/envs/croptype/lib/python3.6/site-packages/tornado/gen.py\", line 326, in wrapper\n    yielded = next(result)\n  File \"/home/roserustowicz/anaconda3/envs/croptype/lib/python3.6/site-packages/ipykernel/kernelbase.py\", line 534, in execute_request\n    user_expressions, allow_stdin,\n  File \"/home/roserustowicz/anaconda3/envs/croptype/lib/python3.6/site-packages/tornado/gen.py\", line 326, in wrapper\n    yielded = next(result)\n  File \"/home/roserustowicz/anaconda3/envs/croptype/lib/python3.6/site-packages/ipykernel/ipkernel.py\", line 294, in do_execute\n    res = shell.run_cell(code, store_history=store_history, silent=silent)\n  File \"/home/roserustowicz/anaconda3/envs/croptype/lib/python3.6/site-packages/ipykernel/zmqshell.py\", line 536, in run_cell\n    return super(ZMQInteractiveShell, self).run_cell(*args, **kwargs)\n  File \"/home/roserustowicz/anaconda3/envs/croptype/lib/python3.6/site-packages/IPython/core/interactiveshell.py\", line 2817, in run_cell\n    raw_cell, store_history, silent, shell_futures)\n  File \"/home/roserustowicz/anaconda3/envs/croptype/lib/python3.6/site-packages/IPython/core/interactiveshell.py\", line 2843, in _run_cell\n    return runner(coro)\n  File \"/home/roserustowicz/anaconda3/envs/croptype/lib/python3.6/site-packages/IPython/core/async_helpers.py\", line 67, in _pseudo_sync_runner\n    coro.send(None)\n  File \"/home/roserustowicz/anaconda3/envs/croptype/lib/python3.6/site-packages/IPython/core/interactiveshell.py\", line 3018, in run_cell_async\n    interactivity=interactivity, compiler=compiler, result=result)\n  File \"/home/roserustowicz/anaconda3/envs/croptype/lib/python3.6/site-packages/IPython/core/interactiveshell.py\", line 3183, in run_ast_nodes\n    if (yield from self.run_code(code, result)):\n  File \"/home/roserustowicz/anaconda3/envs/croptype/lib/python3.6/site-packages/IPython/core/interactiveshell.py\", line 3265, in run_code\n    exec(code_obj, self.user_global_ns, self.user_ns)\n  File \"<ipython-input-12-8d75ea680f85>\", line 8, in <module>\n    tf.train.import_meta_graph(graph)\n  File \"/home/roserustowicz/anaconda3/envs/croptype/lib/python3.6/site-packages/tensorflow/python/training/saver.py\", line 1939, in import_meta_graph\n    **kwargs)\n  File \"/home/roserustowicz/anaconda3/envs/croptype/lib/python3.6/site-packages/tensorflow/python/framework/meta_graph.py\", line 744, in import_scoped_meta_graph\n    producer_op_list=producer_op_list)\n  File \"/home/roserustowicz/anaconda3/envs/croptype/lib/python3.6/site-packages/tensorflow/python/util/deprecation.py\", line 454, in new_func\n    return func(*args, **kwargs)\n  File \"/home/roserustowicz/anaconda3/envs/croptype/lib/python3.6/site-packages/tensorflow/python/framework/importer.py\", line 442, in import_graph_def\n    _ProcessNewOps(graph)\n  File \"/home/roserustowicz/anaconda3/envs/croptype/lib/python3.6/site-packages/tensorflow/python/framework/importer.py\", line 234, in _ProcessNewOps\n    for new_op in graph._add_new_tf_operations(compute_devices=False):  # pylint: disable=protected-access\n  File \"/home/roserustowicz/anaconda3/envs/croptype/lib/python3.6/site-packages/tensorflow/python/framework/ops.py\", line 3289, in _add_new_tf_operations\n    for c_op in c_api_util.new_tf_operations(self)\n  File \"/home/roserustowicz/anaconda3/envs/croptype/lib/python3.6/site-packages/tensorflow/python/framework/ops.py\", line 3289, in <listcomp>\n    for c_op in c_api_util.new_tf_operations(self)\n  File \"/home/roserustowicz/anaconda3/envs/croptype/lib/python3.6/site-packages/tensorflow/python/framework/ops.py\", line 3180, in _create_op_from_tf_operation\n    ret = Operation(c_op, self)\n  File \"/home/roserustowicz/anaconda3/envs/croptype/lib/python3.6/site-packages/tensorflow/python/framework/ops.py\", line 1717, in __init__\n    self._traceback = tf_stack.extract_stack()\n\nInvalidArgumentError (see above for traceback): Number of components does not match: expected 6 types but got 4.\n\t [[Node: input/IteratorFromStringHandle = IteratorFromStringHandle[output_shapes=[<unknown>, <unknown>, <unknown>, <unknown>, <unknown>, <unknown>], output_types=[DT_FLOAT, DT_FLOAT, DT_FLOAT, DT_FLOAT, DT_FLOAT, DT_INT64], _device=\"/job:localhost/replica:0/task:0/device:CPU:0\"](_arg_data_iterator_handle_0_0)]]\n",
     "output_type": "error",
     "traceback": [
      "\u001b[0;31m---------------------------------------------------------------------------\u001b[0m",
      "\u001b[0;31mInvalidArgumentError\u001b[0m                      Traceback (most recent call last)",
      "\u001b[0;32m~/anaconda3/envs/croptype/lib/python3.6/site-packages/tensorflow/python/client/session.py\u001b[0m in \u001b[0;36m_do_call\u001b[0;34m(self, fn, *args)\u001b[0m\n\u001b[1;32m   1277\u001b[0m     \u001b[0;32mtry\u001b[0m\u001b[0;34m:\u001b[0m\u001b[0;34m\u001b[0m\u001b[0m\n\u001b[0;32m-> 1278\u001b[0;31m       \u001b[0;32mreturn\u001b[0m \u001b[0mfn\u001b[0m\u001b[0;34m(\u001b[0m\u001b[0;34m*\u001b[0m\u001b[0margs\u001b[0m\u001b[0;34m)\u001b[0m\u001b[0;34m\u001b[0m\u001b[0m\n\u001b[0m\u001b[1;32m   1279\u001b[0m     \u001b[0;32mexcept\u001b[0m \u001b[0merrors\u001b[0m\u001b[0;34m.\u001b[0m\u001b[0mOpError\u001b[0m \u001b[0;32mas\u001b[0m \u001b[0me\u001b[0m\u001b[0;34m:\u001b[0m\u001b[0;34m\u001b[0m\u001b[0m\n",
      "\u001b[0;32m~/anaconda3/envs/croptype/lib/python3.6/site-packages/tensorflow/python/client/session.py\u001b[0m in \u001b[0;36m_run_fn\u001b[0;34m(feed_dict, fetch_list, target_list, options, run_metadata)\u001b[0m\n\u001b[1;32m   1262\u001b[0m       return self._call_tf_sessionrun(\n\u001b[0;32m-> 1263\u001b[0;31m           options, feed_dict, fetch_list, target_list, run_metadata)\n\u001b[0m\u001b[1;32m   1264\u001b[0m \u001b[0;34m\u001b[0m\u001b[0m\n",
      "\u001b[0;32m~/anaconda3/envs/croptype/lib/python3.6/site-packages/tensorflow/python/client/session.py\u001b[0m in \u001b[0;36m_call_tf_sessionrun\u001b[0;34m(self, options, feed_dict, fetch_list, target_list, run_metadata)\u001b[0m\n\u001b[1;32m   1349\u001b[0m         \u001b[0mself\u001b[0m\u001b[0;34m.\u001b[0m\u001b[0m_session\u001b[0m\u001b[0;34m,\u001b[0m \u001b[0moptions\u001b[0m\u001b[0;34m,\u001b[0m \u001b[0mfeed_dict\u001b[0m\u001b[0;34m,\u001b[0m \u001b[0mfetch_list\u001b[0m\u001b[0;34m,\u001b[0m \u001b[0mtarget_list\u001b[0m\u001b[0;34m,\u001b[0m\u001b[0;34m\u001b[0m\u001b[0m\n\u001b[0;32m-> 1350\u001b[0;31m         run_metadata)\n\u001b[0m\u001b[1;32m   1351\u001b[0m \u001b[0;34m\u001b[0m\u001b[0m\n",
      "\u001b[0;31mInvalidArgumentError\u001b[0m: Number of components does not match: expected 6 types but got 4.\n\t [[Node: input/IteratorFromStringHandle = IteratorFromStringHandle[output_shapes=[<unknown>, <unknown>, <unknown>, <unknown>, <unknown>, <unknown>], output_types=[DT_FLOAT, DT_FLOAT, DT_FLOAT, DT_FLOAT, DT_FLOAT, DT_INT64], _device=\"/job:localhost/replica:0/task:0/device:CPU:0\"](_arg_data_iterator_handle_0_0)]]",
      "\nDuring handling of the above exception, another exception occurred:\n",
      "\u001b[0;31mInvalidArgumentError\u001b[0m                      Traceback (most recent call last)",
      "\u001b[0;32m<ipython-input-12-8d75ea680f85>\u001b[0m in \u001b[0;36m<module>\u001b[0;34m\u001b[0m\n\u001b[1;32m     23\u001b[0m \u001b[0;34m\u001b[0m\u001b[0m\n\u001b[1;32m     24\u001b[0m     \u001b[0mprint\u001b[0m\u001b[0;34m(\u001b[0m\u001b[0;34m\"performing one training step\"\u001b[0m\u001b[0;34m)\u001b[0m\u001b[0;34m\u001b[0m\u001b[0m\n\u001b[0;32m---> 25\u001b[0;31m     \u001b[0msess\u001b[0m\u001b[0;34m.\u001b[0m\u001b[0mrun\u001b[0m\u001b[0;34m(\u001b[0m\u001b[0mtrain_op\u001b[0m\u001b[0;34m,\u001b[0m\u001b[0mfeed_dict\u001b[0m\u001b[0;34m=\u001b[0m\u001b[0;34m{\u001b[0m\u001b[0miterator_handle_op\u001b[0m\u001b[0;34m:\u001b[0m \u001b[0miterator_handle\u001b[0m\u001b[0;34m,\u001b[0m \u001b[0mis_train_op\u001b[0m\u001b[0;34m:\u001b[0m \u001b[0;32mTrue\u001b[0m\u001b[0;34m}\u001b[0m\u001b[0;34m)\u001b[0m\u001b[0;34m\u001b[0m\u001b[0m\n\u001b[0m",
      "\u001b[0;32m~/anaconda3/envs/croptype/lib/python3.6/site-packages/tensorflow/python/client/session.py\u001b[0m in \u001b[0;36mrun\u001b[0;34m(self, fetches, feed_dict, options, run_metadata)\u001b[0m\n\u001b[1;32m    875\u001b[0m     \u001b[0;32mtry\u001b[0m\u001b[0;34m:\u001b[0m\u001b[0;34m\u001b[0m\u001b[0m\n\u001b[1;32m    876\u001b[0m       result = self._run(None, fetches, feed_dict, options_ptr,\n\u001b[0;32m--> 877\u001b[0;31m                          run_metadata_ptr)\n\u001b[0m\u001b[1;32m    878\u001b[0m       \u001b[0;32mif\u001b[0m \u001b[0mrun_metadata\u001b[0m\u001b[0;34m:\u001b[0m\u001b[0;34m\u001b[0m\u001b[0m\n\u001b[1;32m    879\u001b[0m         \u001b[0mproto_data\u001b[0m \u001b[0;34m=\u001b[0m \u001b[0mtf_session\u001b[0m\u001b[0;34m.\u001b[0m\u001b[0mTF_GetBuffer\u001b[0m\u001b[0;34m(\u001b[0m\u001b[0mrun_metadata_ptr\u001b[0m\u001b[0;34m)\u001b[0m\u001b[0;34m\u001b[0m\u001b[0m\n",
      "\u001b[0;32m~/anaconda3/envs/croptype/lib/python3.6/site-packages/tensorflow/python/client/session.py\u001b[0m in \u001b[0;36m_run\u001b[0;34m(self, handle, fetches, feed_dict, options, run_metadata)\u001b[0m\n\u001b[1;32m   1098\u001b[0m     \u001b[0;32mif\u001b[0m \u001b[0mfinal_fetches\u001b[0m \u001b[0;32mor\u001b[0m \u001b[0mfinal_targets\u001b[0m \u001b[0;32mor\u001b[0m \u001b[0;34m(\u001b[0m\u001b[0mhandle\u001b[0m \u001b[0;32mand\u001b[0m \u001b[0mfeed_dict_tensor\u001b[0m\u001b[0;34m)\u001b[0m\u001b[0;34m:\u001b[0m\u001b[0;34m\u001b[0m\u001b[0m\n\u001b[1;32m   1099\u001b[0m       results = self._do_run(handle, final_targets, final_fetches,\n\u001b[0;32m-> 1100\u001b[0;31m                              feed_dict_tensor, options, run_metadata)\n\u001b[0m\u001b[1;32m   1101\u001b[0m     \u001b[0;32melse\u001b[0m\u001b[0;34m:\u001b[0m\u001b[0;34m\u001b[0m\u001b[0m\n\u001b[1;32m   1102\u001b[0m       \u001b[0mresults\u001b[0m \u001b[0;34m=\u001b[0m \u001b[0;34m[\u001b[0m\u001b[0;34m]\u001b[0m\u001b[0;34m\u001b[0m\u001b[0m\n",
      "\u001b[0;32m~/anaconda3/envs/croptype/lib/python3.6/site-packages/tensorflow/python/client/session.py\u001b[0m in \u001b[0;36m_do_run\u001b[0;34m(self, handle, target_list, fetch_list, feed_dict, options, run_metadata)\u001b[0m\n\u001b[1;32m   1270\u001b[0m     \u001b[0;32mif\u001b[0m \u001b[0mhandle\u001b[0m \u001b[0;32mis\u001b[0m \u001b[0;32mNone\u001b[0m\u001b[0;34m:\u001b[0m\u001b[0;34m\u001b[0m\u001b[0m\n\u001b[1;32m   1271\u001b[0m       return self._do_call(_run_fn, feeds, fetches, targets, options,\n\u001b[0;32m-> 1272\u001b[0;31m                            run_metadata)\n\u001b[0m\u001b[1;32m   1273\u001b[0m     \u001b[0;32melse\u001b[0m\u001b[0;34m:\u001b[0m\u001b[0;34m\u001b[0m\u001b[0m\n\u001b[1;32m   1274\u001b[0m       \u001b[0;32mreturn\u001b[0m \u001b[0mself\u001b[0m\u001b[0;34m.\u001b[0m\u001b[0m_do_call\u001b[0m\u001b[0;34m(\u001b[0m\u001b[0m_prun_fn\u001b[0m\u001b[0;34m,\u001b[0m \u001b[0mhandle\u001b[0m\u001b[0;34m,\u001b[0m \u001b[0mfeeds\u001b[0m\u001b[0;34m,\u001b[0m \u001b[0mfetches\u001b[0m\u001b[0;34m)\u001b[0m\u001b[0;34m\u001b[0m\u001b[0m\n",
      "\u001b[0;32m~/anaconda3/envs/croptype/lib/python3.6/site-packages/tensorflow/python/client/session.py\u001b[0m in \u001b[0;36m_do_call\u001b[0;34m(self, fn, *args)\u001b[0m\n\u001b[1;32m   1289\u001b[0m         \u001b[0;32mexcept\u001b[0m \u001b[0mKeyError\u001b[0m\u001b[0;34m:\u001b[0m\u001b[0;34m\u001b[0m\u001b[0m\n\u001b[1;32m   1290\u001b[0m           \u001b[0;32mpass\u001b[0m\u001b[0;34m\u001b[0m\u001b[0m\n\u001b[0;32m-> 1291\u001b[0;31m       \u001b[0;32mraise\u001b[0m \u001b[0mtype\u001b[0m\u001b[0;34m(\u001b[0m\u001b[0me\u001b[0m\u001b[0;34m)\u001b[0m\u001b[0;34m(\u001b[0m\u001b[0mnode_def\u001b[0m\u001b[0;34m,\u001b[0m \u001b[0mop\u001b[0m\u001b[0;34m,\u001b[0m \u001b[0mmessage\u001b[0m\u001b[0;34m)\u001b[0m\u001b[0;34m\u001b[0m\u001b[0m\n\u001b[0m\u001b[1;32m   1292\u001b[0m \u001b[0;34m\u001b[0m\u001b[0m\n\u001b[1;32m   1293\u001b[0m   \u001b[0;32mdef\u001b[0m \u001b[0m_extend_graph\u001b[0m\u001b[0;34m(\u001b[0m\u001b[0mself\u001b[0m\u001b[0;34m)\u001b[0m\u001b[0;34m:\u001b[0m\u001b[0;34m\u001b[0m\u001b[0m\n",
      "\u001b[0;31mInvalidArgumentError\u001b[0m: Number of components does not match: expected 6 types but got 4.\n\t [[Node: input/IteratorFromStringHandle = IteratorFromStringHandle[output_shapes=[<unknown>, <unknown>, <unknown>, <unknown>, <unknown>, <unknown>], output_types=[DT_FLOAT, DT_FLOAT, DT_FLOAT, DT_FLOAT, DT_FLOAT, DT_INT64], _device=\"/job:localhost/replica:0/task:0/device:CPU:0\"](_arg_data_iterator_handle_0_0)]]\n\nCaused by op 'input/IteratorFromStringHandle', defined at:\n  File \"/home/roserustowicz/anaconda3/envs/croptype/lib/python3.6/runpy.py\", line 193, in _run_module_as_main\n    \"__main__\", mod_spec)\n  File \"/home/roserustowicz/anaconda3/envs/croptype/lib/python3.6/runpy.py\", line 85, in _run_code\n    exec(code, run_globals)\n  File \"/home/roserustowicz/anaconda3/envs/croptype/lib/python3.6/site-packages/ipykernel_launcher.py\", line 16, in <module>\n    app.launch_new_instance()\n  File \"/home/roserustowicz/anaconda3/envs/croptype/lib/python3.6/site-packages/traitlets/config/application.py\", line 658, in launch_instance\n    app.start()\n  File \"/home/roserustowicz/anaconda3/envs/croptype/lib/python3.6/site-packages/ipykernel/kernelapp.py\", line 505, in start\n    self.io_loop.start()\n  File \"/home/roserustowicz/anaconda3/envs/croptype/lib/python3.6/site-packages/tornado/platform/asyncio.py\", line 132, in start\n    self.asyncio_loop.run_forever()\n  File \"/home/roserustowicz/anaconda3/envs/croptype/lib/python3.6/asyncio/base_events.py\", line 422, in run_forever\n    self._run_once()\n  File \"/home/roserustowicz/anaconda3/envs/croptype/lib/python3.6/asyncio/base_events.py\", line 1434, in _run_once\n    handle._run()\n  File \"/home/roserustowicz/anaconda3/envs/croptype/lib/python3.6/asyncio/events.py\", line 145, in _run\n    self._callback(*self._args)\n  File \"/home/roserustowicz/anaconda3/envs/croptype/lib/python3.6/site-packages/tornado/ioloop.py\", line 758, in _run_callback\n    ret = callback()\n  File \"/home/roserustowicz/anaconda3/envs/croptype/lib/python3.6/site-packages/tornado/stack_context.py\", line 300, in null_wrapper\n    return fn(*args, **kwargs)\n  File \"/home/roserustowicz/anaconda3/envs/croptype/lib/python3.6/site-packages/tornado/gen.py\", line 1233, in inner\n    self.run()\n  File \"/home/roserustowicz/anaconda3/envs/croptype/lib/python3.6/site-packages/tornado/gen.py\", line 1147, in run\n    yielded = self.gen.send(value)\n  File \"/home/roserustowicz/anaconda3/envs/croptype/lib/python3.6/site-packages/ipykernel/kernelbase.py\", line 357, in process_one\n    yield gen.maybe_future(dispatch(*args))\n  File \"/home/roserustowicz/anaconda3/envs/croptype/lib/python3.6/site-packages/tornado/gen.py\", line 326, in wrapper\n    yielded = next(result)\n  File \"/home/roserustowicz/anaconda3/envs/croptype/lib/python3.6/site-packages/ipykernel/kernelbase.py\", line 267, in dispatch_shell\n    yield gen.maybe_future(handler(stream, idents, msg))\n  File \"/home/roserustowicz/anaconda3/envs/croptype/lib/python3.6/site-packages/tornado/gen.py\", line 326, in wrapper\n    yielded = next(result)\n  File \"/home/roserustowicz/anaconda3/envs/croptype/lib/python3.6/site-packages/ipykernel/kernelbase.py\", line 534, in execute_request\n    user_expressions, allow_stdin,\n  File \"/home/roserustowicz/anaconda3/envs/croptype/lib/python3.6/site-packages/tornado/gen.py\", line 326, in wrapper\n    yielded = next(result)\n  File \"/home/roserustowicz/anaconda3/envs/croptype/lib/python3.6/site-packages/ipykernel/ipkernel.py\", line 294, in do_execute\n    res = shell.run_cell(code, store_history=store_history, silent=silent)\n  File \"/home/roserustowicz/anaconda3/envs/croptype/lib/python3.6/site-packages/ipykernel/zmqshell.py\", line 536, in run_cell\n    return super(ZMQInteractiveShell, self).run_cell(*args, **kwargs)\n  File \"/home/roserustowicz/anaconda3/envs/croptype/lib/python3.6/site-packages/IPython/core/interactiveshell.py\", line 2817, in run_cell\n    raw_cell, store_history, silent, shell_futures)\n  File \"/home/roserustowicz/anaconda3/envs/croptype/lib/python3.6/site-packages/IPython/core/interactiveshell.py\", line 2843, in _run_cell\n    return runner(coro)\n  File \"/home/roserustowicz/anaconda3/envs/croptype/lib/python3.6/site-packages/IPython/core/async_helpers.py\", line 67, in _pseudo_sync_runner\n    coro.send(None)\n  File \"/home/roserustowicz/anaconda3/envs/croptype/lib/python3.6/site-packages/IPython/core/interactiveshell.py\", line 3018, in run_cell_async\n    interactivity=interactivity, compiler=compiler, result=result)\n  File \"/home/roserustowicz/anaconda3/envs/croptype/lib/python3.6/site-packages/IPython/core/interactiveshell.py\", line 3183, in run_ast_nodes\n    if (yield from self.run_code(code, result)):\n  File \"/home/roserustowicz/anaconda3/envs/croptype/lib/python3.6/site-packages/IPython/core/interactiveshell.py\", line 3265, in run_code\n    exec(code_obj, self.user_global_ns, self.user_ns)\n  File \"<ipython-input-12-8d75ea680f85>\", line 8, in <module>\n    tf.train.import_meta_graph(graph)\n  File \"/home/roserustowicz/anaconda3/envs/croptype/lib/python3.6/site-packages/tensorflow/python/training/saver.py\", line 1939, in import_meta_graph\n    **kwargs)\n  File \"/home/roserustowicz/anaconda3/envs/croptype/lib/python3.6/site-packages/tensorflow/python/framework/meta_graph.py\", line 744, in import_scoped_meta_graph\n    producer_op_list=producer_op_list)\n  File \"/home/roserustowicz/anaconda3/envs/croptype/lib/python3.6/site-packages/tensorflow/python/util/deprecation.py\", line 454, in new_func\n    return func(*args, **kwargs)\n  File \"/home/roserustowicz/anaconda3/envs/croptype/lib/python3.6/site-packages/tensorflow/python/framework/importer.py\", line 442, in import_graph_def\n    _ProcessNewOps(graph)\n  File \"/home/roserustowicz/anaconda3/envs/croptype/lib/python3.6/site-packages/tensorflow/python/framework/importer.py\", line 234, in _ProcessNewOps\n    for new_op in graph._add_new_tf_operations(compute_devices=False):  # pylint: disable=protected-access\n  File \"/home/roserustowicz/anaconda3/envs/croptype/lib/python3.6/site-packages/tensorflow/python/framework/ops.py\", line 3289, in _add_new_tf_operations\n    for c_op in c_api_util.new_tf_operations(self)\n  File \"/home/roserustowicz/anaconda3/envs/croptype/lib/python3.6/site-packages/tensorflow/python/framework/ops.py\", line 3289, in <listcomp>\n    for c_op in c_api_util.new_tf_operations(self)\n  File \"/home/roserustowicz/anaconda3/envs/croptype/lib/python3.6/site-packages/tensorflow/python/framework/ops.py\", line 3180, in _create_op_from_tf_operation\n    ret = Operation(c_op, self)\n  File \"/home/roserustowicz/anaconda3/envs/croptype/lib/python3.6/site-packages/tensorflow/python/framework/ops.py\", line 1717, in __init__\n    self._traceback = tf_stack.extract_stack()\n\nInvalidArgumentError (see above for traceback): Number of components does not match: expected 6 types but got 4.\n\t [[Node: input/IteratorFromStringHandle = IteratorFromStringHandle[output_shapes=[<unknown>, <unknown>, <unknown>, <unknown>, <unknown>, <unknown>], output_types=[DT_FLOAT, DT_FLOAT, DT_FLOAT, DT_FLOAT, DT_FLOAT, DT_INT64], _device=\"/job:localhost/replica:0/task:0/device:CPU:0\"](_arg_data_iterator_handle_0_0)]]\n"
     ]
    }
   ],
   "source": [
    "# define the network to be loaded\n",
    "# if not yet created, make one with python modelzoo/seqencoder.py script, as described in the readme.md\n",
    "graph=\"tmp_africa/convgru128/graph.meta\"\n",
    "\n",
    "with tf.Session() as sess:\n",
    "\n",
    "    print(\"loading network graph definition\")\n",
    "    tf.train.import_meta_graph(graph)\n",
    "\n",
    "    print(\"initializing variables, tables and the data iterator\")\n",
    "    sess.run([tf.global_variables_initializer(), tf.local_variables_initializer(), tf.tables_initializer(),iterator.initializer])\n",
    "\n",
    "    print(\"getting one string handle from the iterator that can be fed to the network\")\n",
    "    iterator_handle = sess.run(iterator.string_handle())\n",
    "\n",
    "    print(\"making some processing nodes accessible to python\")\n",
    "    def get_operation(name):\n",
    "        return tf.get_default_graph().get_operation_by_name(name).outputs[0]\n",
    "\n",
    "    iterator_handle_op = get_operation(\"data_iterator_handle\")\n",
    "    is_train_op = get_operation(\"is_train\")\n",
    "    train_op = get_operation(\"train_op\")\n",
    "\n",
    "    print(\"performing one training step\")\n",
    "    sess.run(train_op,feed_dict={iterator_handle_op: iterator_handle, is_train_op: True})"
   ]
  },
  {
   "cell_type": "code",
   "execution_count": null,
   "metadata": {},
   "outputs": [],
   "source": []
  }
 ],
 "metadata": {
  "kernelspec": {
   "display_name": "Python [conda env:croptype]",
   "language": "python",
   "name": "conda-env-croptype-py"
  },
  "language_info": {
   "codemirror_mode": {
    "name": "ipython",
    "version": 3
   },
   "file_extension": ".py",
   "mimetype": "text/x-python",
   "name": "python",
   "nbconvert_exporter": "python",
   "pygments_lexer": "ipython3",
   "version": "3.6.6"
  }
 },
 "nbformat": 4,
 "nbformat_minor": 2
}
